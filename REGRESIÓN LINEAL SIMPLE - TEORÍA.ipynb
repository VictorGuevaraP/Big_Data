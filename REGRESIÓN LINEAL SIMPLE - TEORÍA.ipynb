{
 "cells": [
  {
   "cell_type": "markdown",
   "metadata": {},
   "source": [
    "# <center> REGRESIÓN LINEAL\n",
    "\n",
    "Supongamos que observamos la respuesta (cuantitativa) $Y$ y $p$ predictores\n",
    "$ X_1, X_2, ..., X_p$. Suponemos también que hay una relación entre Y y **X**\n",
    "tal que se pueden escribir como \n",
    "\n",
    "$$\n",
    "Y = f(x) + \\epsilon \n",
    "$$\n",
    "\n",
    "$f$ es fija pero es desconocida y es una función de las variables $X_1, X_2, ..., X_p$.\n",
    "$\\epsilon$ es un error aleatorio, es independiente de **X** y tiene media cero.\n",
    "En esta formulación, $f$ representa la información sistemática (la que podemos\n",
    "aislar con un modelo) que X provee acerca de Y.\n"
   ]
  },
  {
   "cell_type": "code",
   "execution_count": 5,
   "metadata": {},
   "outputs": [],
   "source": [
    "#Importamos librerias \n",
    "import pandas as pd\n",
    "import numpy as np\n",
    "import seaborn as sns\n",
    "from sklearn.linear_model import LinearRegression"
   ]
  },
  {
   "cell_type": "markdown",
   "metadata": {},
   "source": [
    "Podemos ver que en el siguiente ejemplo para 30 individuos en una muestra aleatoria, donde la gráfica de la escolaridad de una persona parece estar muy relacionada con su ingreso."
   ]
  },
  {
   "cell_type": "code",
   "execution_count": 14,
   "metadata": {},
   "outputs": [],
   "source": [
    "#Graficamos para evaluar la relación entre variables\n",
    "import matplotlib.pyplot as plt"
   ]
  },
  {
   "cell_type": "code",
   "execution_count": 15,
   "metadata": {},
   "outputs": [
    {
     "data": {
      "text/html": [
       "<div>\n",
       "<style scoped>\n",
       "    .dataframe tbody tr th:only-of-type {\n",
       "        vertical-align: middle;\n",
       "    }\n",
       "\n",
       "    .dataframe tbody tr th {\n",
       "        vertical-align: top;\n",
       "    }\n",
       "\n",
       "    .dataframe thead th {\n",
       "        text-align: right;\n",
       "    }\n",
       "</style>\n",
       "<table border=\"1\" class=\"dataframe\">\n",
       "  <thead>\n",
       "    <tr style=\"text-align: right;\">\n",
       "      <th></th>\n",
       "      <th>educacion</th>\n",
       "      <th>ingreso</th>\n",
       "    </tr>\n",
       "  </thead>\n",
       "  <tbody>\n",
       "    <tr>\n",
       "      <th>0</th>\n",
       "      <td>10.000000</td>\n",
       "      <td>26.658839</td>\n",
       "    </tr>\n",
       "    <tr>\n",
       "      <th>1</th>\n",
       "      <td>10.401338</td>\n",
       "      <td>27.306435</td>\n",
       "    </tr>\n",
       "    <tr>\n",
       "      <th>2</th>\n",
       "      <td>10.842809</td>\n",
       "      <td>22.132410</td>\n",
       "    </tr>\n",
       "    <tr>\n",
       "      <th>3</th>\n",
       "      <td>11.244147</td>\n",
       "      <td>21.169841</td>\n",
       "    </tr>\n",
       "    <tr>\n",
       "      <th>4</th>\n",
       "      <td>11.645485</td>\n",
       "      <td>15.192634</td>\n",
       "    </tr>\n",
       "  </tbody>\n",
       "</table>\n",
       "</div>"
      ],
      "text/plain": [
       "   educacion    ingreso\n",
       "0  10.000000  26.658839\n",
       "1  10.401338  27.306435\n",
       "2  10.842809  22.132410\n",
       "3  11.244147  21.169841\n",
       "4  11.645485  15.192634"
      ]
     },
     "execution_count": 15,
     "metadata": {},
     "output_type": "execute_result"
    }
   ],
   "source": [
    "#Importamos el conjunto de datos\n",
    "caso=pd.read_csv(\"https://raw.githubusercontent.com/VictorGuevaraP/ME-Machine-Learning/master/ingresos.csv\", sep=\";\")\n",
    "caso.head()"
   ]
  },
  {
   "cell_type": "code",
   "execution_count": 19,
   "metadata": {},
   "outputs": [
    {
     "name": "stdout",
     "output_type": "stream",
     "text": [
      "<class 'pandas.core.frame.DataFrame'>\n",
      "RangeIndex: 30 entries, 0 to 29\n",
      "Data columns (total 2 columns):\n",
      "educacion    30 non-null float64\n",
      "ingreso      30 non-null float64\n",
      "dtypes: float64(2)\n",
      "memory usage: 560.0 bytes\n"
     ]
    }
   ],
   "source": [
    "caso.info()"
   ]
  },
  {
   "cell_type": "code",
   "execution_count": 17,
   "metadata": {},
   "outputs": [
    {
     "data": {
      "image/png": "[encoded data removed]",
      "text/plain": [
       "<Figure size 432x288 with 1 Axes>"
      ]
     },
     "metadata": {
      "needs_background": "light"
     },
     "output_type": "display_data"
    }
   ],
   "source": [
    "#Graficamos para evaluar la relación entre variables\n",
    "plt.scatter(caso['educacion'], caso['ingreso'], color='red',alpha=0.6);\n",
    "plt.title(\"Diagrama de dispersión educación - ingreso\")\n",
    "plt.ylabel(\"Ingreso\")\n",
    "plt.xlabel(\"Educación\");"
   ]
  },
  {
   "cell_type": "markdown",
   "metadata": {},
   "source": [
    "\n",
    "Podemos modelar la relación que existe entre el ingreso y la educación \n",
    "de manera que, a partir de conocer la educación de alguien nuevo, podamos\n",
    "predecir su ingreso. $f$ dependerá de qué tipo de asociación *suponemos*\n",
    "existe entre las variables independientes y la variable dependiente.\n",
    "\n",
    "El *aprendizaje estadístico* refiere al conjunto de métodos que tenemos a nuestra\n",
    "disposición para estimar $f$.\n",
    "\n",
    "Llamaremos a las variables independientes de muchas maneras: features (caracteristicas), predictores.\n",
    "A la variable dependiente también la llamaremos variable de respuesta.\n",
    "\n",
    "# El objetivo (del analista) para determinar f\n",
    "\n",
    "Hay dos razones principales para querer estimar $f$: para predecir o para\n",
    "realizar inferencias."
   ]
  },
  {
   "cell_type": "markdown",
   "metadata": {},
   "source": [
    "## Predicción\n",
    "\n",
    "En muchas situaciones, tenemos muchas variables independientes posibles pero\n",
    "la variable dependiente no es fácilmente obtenible. De la formulación realizada\n",
    "antes, sabemos que el error promedio es cero y, por ende, podemos\n",
    "predecir Y usando"
   ]
  },
  {
   "cell_type": "markdown",
   "metadata": {},
   "source": [
    "<center> $\\hat{Y} = \\hat{f}(\\boldsymbol{X})$"
   ]
  },
  {
   "cell_type": "markdown",
   "metadata": {},
   "source": [
    "donde $\\hat{f}$ representa nuestra estimación para $f$ y $\\hat{Y}$ representa\n",
    "el resultado de nuestra predicción para $Y$."
   ]
  },
  {
   "cell_type": "markdown",
   "metadata": {},
   "source": [
    "# <center> Regresión lineal simple\n",
    "\n",
    "Una regresión lineal simple predice una variable respuesta $Y$ utilizando una\n",
    "única variable independiente $X$. El supuesto implícito es que la relación\n",
    "que guardan $X$ y $Y$ es aproximadamente lineal y el modelo que se supone (la\n",
    "forma de la $f$) es:\n",
    "\n",
    "$$\n",
    "Y \\approx \\beta_0 + \\beta_1 X\n",
    "$$\n",
    "\n",
    "Si consideramos la base de datos de `ingresos`, podemos especificar un\n",
    "modelo de regresión lineal simple como sigue:\n",
    "\n",
    "$$\n",
    "Ingreso \\approx \\beta_0 + \\beta_1 educación\n",
    "$$\n",
    "\n",
    "donde $\\beta_0$ representa la ordenada al origen y $\\beta_1$ es la pendiente \n",
    "del modelo lineal.\n",
    "\n",
    "Estos dos valores se conocen como *coeficientes* o *parámetros*.\n",
    "\n",
    "Utilizamos el conjunto de datos `ingresos` para entrenar un modelo, es decir,\n",
    "para calcular $\\hat{\\beta_0}$ y $\\hat{\\beta_1}$ del modelo especificado.\n",
    "Una vez que calculamos estos dos parámetros podremos calcular una predicción de\n",
    "$Y$, a la que denotamos como $\\hat{y}$ basandonos en que $X = x$."
   ]
  },
  {
   "cell_type": "markdown",
   "metadata": {},
   "source": [
    "## Estimación de los coeficientes\n",
    "\n",
    "Como $\\beta_0$ y $\\beta_1$ son desconocidos y debemos estimarlos. Para eso utilizamos\n",
    "las $n$ parejas ordenadas que nos dan nuestros datos, es decir:\n",
    "\n",
    "$$\n",
    "(x_1, y_1), (x_2, y_2), ..., (x_n, y_n)\n",
    "$$\n",
    "\n",
    "En el ejemplo de `ingresos`, queremos unos estimadores de $\\hat{\\beta_0}$ y \n",
    "$\\hat{\\beta_1}$ tales que la línea resultante sea la más cercana posible a las\n",
    "$n$ (30) observaciones en la base.\n",
    "\n",
    "La más común es el criterio de mínimos cuadrados. Lo que se hace es minimizar la distancia entre los puntos y la recta\n",
    "al cuadrado, es decir, si vemos la figura siguiente, el error en la observación i-ésima está dado por la línea gris para cada observación $(x_i, y_i)$.\n",
    "Ésta última son los puntos rojos (en este caso, 30).\n",
    "\n",
    "Una vez estimados los coeficientes, tenemos $\\hat{y_i} = \\hat{\\beta_0} + \\hat{\\beta_1} x_i$.\n",
    "\n",
    "$\\hat{y_i}$ esta sobre la recta azul.\n"
   ]
  },
  {
   "cell_type": "code",
   "execution_count": 41,
   "metadata": {},
   "outputs": [],
   "source": [
    "#Creando nuestra función\n",
    "def coeficiente_estimados(x, y): \n",
    "     \n",
    "    # media para x y para y\n",
    "    m_x, m_y = np.mean(x), np.mean(y) \n",
    "  \n",
    "    # calculamos las dexviaciones cruzadas\n",
    "    SS_xy = sum((X-m_x)*(Y-m_y))\n",
    "    SS_xx = sum((X-m_x)**2) \n",
    "  \n",
    "    # Calculando los coeficientes de correlación \n",
    "    b_1 = SS_xy / SS_xx\n",
    "    b_0 = m_y - b_1*m_x\n",
    "  \n",
    "    return(b_0, b_1)\n"
   ]
  },
  {
   "cell_type": "code",
   "execution_count": 54,
   "metadata": {},
   "outputs": [
    {
     "data": {
      "text/plain": [
       "(-39.44625559551918, 5.599482808053283)"
      ]
     },
     "execution_count": 54,
     "metadata": {},
     "output_type": "execute_result"
    }
   ],
   "source": [
    "X=caso['educacion']\n",
    "Y=caso['ingreso']\n",
    "b_0, b_1=coeficiente_estimados(X,Y)\n",
    "b_0, b_1"
   ]
  },
  {
   "cell_type": "code",
   "execution_count": 53,
   "metadata": {},
   "outputs": [
    {
     "data": {
      "image/png": "[encoded data removed]",
      "text/plain": [
       "<Figure size 432x288 with 1 Axes>"
      ]
     },
     "metadata": {
      "needs_background": "light"
     },
     "output_type": "display_data"
    }
   ],
   "source": [
    "#Graficamos con el modelo de regresión\n",
    "plt.scatter(X, Y, color = \"Red\", marker = \"o\", alpha=0.7) \n",
    "y_pred = b_0 + b_1*X \n",
    "plt.plot(X, y_pred, color = \"Blue\") ;\n",
    "plt.xlabel('Ingreso') \n",
    "plt.ylabel('Educacion') \n",
    "plt.show()"
   ]
  },
  {
   "cell_type": "markdown",
   "metadata": {},
   "source": [
    "Se define la suma de cuadrados del error (SCE) como:\n",
    "\n",
    "$$\n",
    "SCE = e_1^2 + e_2^2 + ... + e_n^2\n",
    "$$\n",
    "\n",
    "La estimación por mínimos cuadrados elige $\\hat{\\beta_0}$ y \n",
    "$\\hat{\\beta_1}$ que minimizan la $SCE$. Puede probarse que estos son:\n",
    "\n",
    "$$\n",
    "\\hat{\\beta_1} = \\frac{\\sum_{1=1}^n(x_i - \\overline{x})(y_i - \\overline{y})}{\\sum_{i=1}^{n}(x_i - \\overline{x})^2}\n",
    "$$\n",
    "$$\n",
    "\\hat{\\beta_0} = \\overline{y} - \\hat{\\beta_1}\\overline{x}\n",
    "$$\n",
    "\n",
    "donde $\\overline{y} \\equiv \\frac{1}{n} \\sum_{i=1}^n y_i$ y\n",
    "$\\overline{x} \\equiv \\frac{1}{n} \\sum_{i=1}^n x_i$ son las medias muestrales.\n",
    "\n",
    "La recta azul de la figura anterior es la recta de la regresión lineal simple \n",
    "estimada por mínimos cuadrados. En este caso, la ordenada es $\\hat{\\beta_0} =$\n",
    "`-39.45` y la pendiente es $\\hat{\\beta_1} =$\n",
    "`5.599`."
   ]
  },
  {
   "cell_type": "markdown",
   "metadata": {},
   "source": [
    "\n",
    "## Evaluación de la precisión de los estimadores de los coeficientes\n",
    "\n",
    "Recordamos que siempre partimos del modelo:\n",
    "\n",
    "$$\n",
    "Y = f(X) + \\epsilon\n",
    "$$\n",
    "\n",
    "En regresión lineal simple, *suponemos* que podemos aproximar $f$ a través de una\n",
    "función lineal y, por lo tanto, escribimos la relación \n",
    "\n",
    "$$\n",
    "Y = f(X) + \\epsilon = \\beta_0 + \\beta_1 X + \\epsilon\n",
    "$$"
   ]
  },
  {
   "cell_type": "markdown",
   "metadata": {},
   "source": [
    "Igual que en cualquier otra recta, la ordenada es el valor de la función cuando\n",
    "$X=0$ y la pendiente es el cambio esperado en $Y$ que podemos asociarle a una\n",
    "unidad adicional de $X$. La $\\epsilon$ simplemente toma todo lo que no pudimos\n",
    "modelar utilizando la información de $X$. \n",
    "\n",
    "El término del error, entonces, contiene:\n",
    "\n",
    "i. Si la relación no era lineal, lo que no atrapamos por nuestro supuesto sobre $f$\n",
    "\n",
    "ii. Si la especificación de $X$ no fue completa, atrapa la relación que otras \n",
    "variables independientes tienen sobre $Y$.\n",
    "\n",
    "\n",
    "iii. Errores de medición \n"
   ]
  },
  {
   "cell_type": "markdown",
   "metadata": {},
   "source": [
    "### La prueba de hipótesis de los coeficientes.\n",
    "La prueba de hipótesis de los coeficientes utilizan los errores estándar. La\n",
    "prueba más común es aquella en la que la hipótesis nula ($H_0$) es que no hay relación\n",
    "entre $X$ y $Y$. La alternativa es que existe una relación entre $X$ y $Y$. \n",
    "\n",
    "Matemáticamente, esto es:\n",
    "\n",
    "$$\n",
    "H_0: \\beta_1=0, H_a: \\beta_1 \\neq 0\n",
    "$$\n",
    "\n",
    "Si $\\beta_1 = 0$ el modelo se reduce a $Y=\\beta_0 + \\epsilon$\n",
    "\n",
    "Para probar la hipótesis nula, se debe determinar si nuestro estimador para \n",
    "$\\beta_1$ es *suficientemente distinto de cero* de manera que podemos decir,\n",
    "con cierto nivel de confianza, que este es no-cero.\n",
    "\n",
    "El *suficientemente distinto* depende del error estándar del coeficiente ($SE(\\hat{\\beta_1})$)\n",
    "mientras mayor sea el error estándar del coeficiente, más lejos de cero debe\n",
    "estar el coeficiente. Mientras más chico sea el error estándar, más pequeño \n",
    "puede ser el estimador del coeficiente para que sigamos diciendo que es distinto\n",
    "de cero.\n",
    "\n",
    "Se computa el estadístico $t$:\n",
    "\n",
    "$$\n",
    "t = \\frac{\\hat{\\beta_1} - 0}{SE(\\hat{\\beta_1})}\n",
    "$$\n",
    "\n",
    "que mide escencialmente a cuántas desviaciones estándar se encuentra $\\hat{\\beta_1}$\n",
    "de cero. Si realmente no hay relación entre $X$ y $Y$, esperamos que el \n",
    "estadístico $t$ dado por la fórmula anterior se distribuya como una t de student\n",
    "con $n-2$ grados de libertad.\n",
    "\n",
    "Se puede calcular la probabilidad de observar $|t|$ (o algo más grande). A \n",
    "esta probabilidad se le llama $p-valor$. Mientras menor sea el p-valor, \n",
    "menos probable es que la relación observada entre $X$ y $Y$ sea aleatoria.\n",
    "\n",
    "Mientras menor el p-valor, con más certeza rechazamos la hipótesis nula y \n",
    "declaramos que existe una relación entre $X$ y $Y$."
   ]
  },
  {
   "cell_type": "code",
   "execution_count": 55,
   "metadata": {},
   "outputs": [
    {
     "name": "stdout",
     "output_type": "stream",
     "text": [
      "                            OLS Regression Results                            \n",
      "==============================================================================\n",
      "Dep. Variable:                ingreso   R-squared:                       0.931\n",
      "Model:                            OLS   Adj. R-squared:                  0.928\n",
      "Method:                 Least Squares   F-statistic:                     377.6\n",
      "Date:                Sun, 20 Oct 2019   Prob (F-statistic):           8.63e-18\n",
      "Time:                        05:50:43   Log-Likelihood:                -93.500\n",
      "No. Observations:                  30   AIC:                             191.0\n",
      "Df Residuals:                      28   BIC:                             193.8\n",
      "Df Model:                           1                                         \n",
      "Covariance Type:            nonrobust                                         \n",
      "==============================================================================\n",
      "                 coef    std err          t      P>|t|      [0.025      0.975]\n",
      "------------------------------------------------------------------------------\n",
      "Intercept    -39.4463      4.725     -8.349      0.000     -49.125     -29.768\n",
      "educacion      5.5995      0.288     19.431      0.000       5.009       6.190\n",
      "==============================================================================\n",
      "Omnibus:                        1.166   Durbin-Watson:                   1.163\n",
      "Prob(Omnibus):                  0.558   Jarque-Bera (JB):                0.774\n",
      "Skew:                          -0.391   Prob(JB):                        0.679\n",
      "Kurtosis:                       2.916   Cond. No.                         75.3\n",
      "==============================================================================\n",
      "\n",
      "Warnings:\n",
      "[1] Standard Errors assume that the covariance matrix of the errors is correctly specified.\n"
     ]
    }
   ],
   "source": [
    "#Importamos la libreria para realizar regresión\n",
    "from statsmodels.formula.api import ols\n",
    "model_1 = ols(\"ingreso ~ educacion\", caso).fit()\n",
    "print(model_1.summary())"
   ]
  },
  {
   "cell_type": "markdown",
   "metadata": {},
   "source": [
    "## Evaluación de la precisión del modelo\n",
    "\n",
    "Ya que rechazamos la hipótesis nula del coeficiente asociado a la $X$ en un \n",
    "modelo de regresión simple, queremos saber el grado en el que nuestro modelo\n",
    "se ajusta a los datos. La calidad del modelo normalmente se evalúa utilizando\n",
    "el error estándar de los residuales (SCR) y el estadístico $R^2$.\n",
    "\n",
    "### Error estándar de los residuales\n",
    "\n",
    "Cada observación tiene asociado un $\\epsilon$ pues no podemos predecir en forma\n",
    "perfecta $Y$ a partir de $X$. La $SCR$ es un estimador de la desviación estándar\n",
    "de $\\epsilon$. Es la cantidad promedio en la que la respuesta $\\hat{y}$ se \n",
    "desvía de la línea de regresión de la población (la *verdadera*). Se \n",
    "computa a través de la fórmula:\n",
    "\n",
    "$$\n",
    "SCR = \\sqrt{\\frac{1}{n-2}SCE} = \\sqrt{\\frac{1}{n-2}\\sum_{i=1}^n(y_i - \\hat{y_i})^2}\n",
    "$$\n",
    "\n",
    "La SCR es una medida de la falta de ajuste de los datos al modelo. Si las predicciones\n",
    "que obtenemos con el modelo están muy cerca de los valores verdaderos de la variable\n",
    "$\\hat{y_i} \\approx y_i$ para $i=1,...n$ entonces la SCR será pequeña y podemos\n",
    "concluir que el modelo ajusta bien a los datos.\n",
    "\n",
    "### $R^2$"
   ]
  },
  {
   "cell_type": "markdown",
   "metadata": {},
   "source": [
    "La SCR está en las unidades que tiene $Y$ y, por eso, es más dificil determinar\n",
    "si se tiene un buen SCR. El estadístico $R^2$ es la proporción de varianza \n",
    "explicada por el modelo y, por ende, siempre está entre cero y uno (es independiente\n",
    "de la escala de $Y$).\n"
   ]
  },
  {
   "cell_type": "markdown",
   "metadata": {},
   "source": [
    "$$\n",
    "R^2 = \\frac{SCT-SCR}{SCR}=1-\\frac{SCR}{SCT}\n",
    "$$\n",
    "\n",
    "donde $SCT = \\sum(y_i - \\overline{y})^2$ es la suma de cuadrados totales y mide\n",
    "la varianza total de la respuesta $Y$. Se puede ver como la variabilidad inherente\n",
    "de la variable de respuesta antes de realizar el modelo de regresión. Por esto\n",
    "$SCT-SCR$ mide la variabilidad explicada al realizar la regresión. $R^2$ mide\n",
    "la proporción de la variabilidad de $Y$ que se explica al utilizar $X$. \n",
    "\n",
    "Aún así, es difícil determinar cuándo la $R^2$ es buena y en general depende de\n",
    "la aplicación.\n",
    "\n",
    "La $R^2$ mide la relación lineal entre $X$ y $Y$ y, en regresión lineal simple,\n",
    "es equivalente a la correlación al cuadrado."
   ]
  },
  {
   "cell_type": "markdown",
   "metadata": {},
   "source": [
    "$$\n",
    "cor(X,Y) = \\frac{\\sum_{i=1}^n (x_i-\\overline{x})(y_i-\\overline{y})}{\\sqrt{\\sum_{i=1}^n (x_i-\\overline{x})^2}\\sqrt{\\sum_{i=1}^n (y_i-\\overline{y})^2}}\n",
    "$$\n",
    "\n",
    "El concepto de correlación no se extiende en la regresión múltiple de la misma \n",
    "manera pues la $R^2$ permitirá medir la correlación entre $Y$ y todas las $X$s\n",
    "consideradas en el modelo en forma simultánea.\n"
   ]
  },
  {
   "cell_type": "code",
   "execution_count": 57,
   "metadata": {},
   "outputs": [
    {
     "name": "stdout",
     "output_type": "stream",
     "text": [
      "                            OLS Regression Results                            \n",
      "==============================================================================\n",
      "Dep. Variable:                ingreso   R-squared:                       0.931\n",
      "Model:                            OLS   Adj. R-squared:                  0.928\n",
      "Method:                 Least Squares   F-statistic:                     377.6\n",
      "Date:                Sun, 20 Oct 2019   Prob (F-statistic):           8.63e-18\n",
      "Time:                        06:08:54   Log-Likelihood:                -93.500\n",
      "No. Observations:                  30   AIC:                             191.0\n",
      "Df Residuals:                      28   BIC:                             193.8\n",
      "Df Model:                           1                                         \n",
      "Covariance Type:            nonrobust                                         \n",
      "==============================================================================\n",
      "                 coef    std err          t      P>|t|      [0.025      0.975]\n",
      "------------------------------------------------------------------------------\n",
      "Intercept    -39.4463      4.725     -8.349      0.000     -49.125     -29.768\n",
      "educacion      5.5995      0.288     19.431      0.000       5.009       6.190\n",
      "==============================================================================\n",
      "Omnibus:                        1.166   Durbin-Watson:                   1.163\n",
      "Prob(Omnibus):                  0.558   Jarque-Bera (JB):                0.774\n",
      "Skew:                          -0.391   Prob(JB):                        0.679\n",
      "Kurtosis:                       2.916   Cond. No.                         75.3\n",
      "==============================================================================\n",
      "\n",
      "Warnings:\n",
      "[1] Standard Errors assume that the covariance matrix of the errors is correctly specified.\n"
     ]
    }
   ],
   "source": [
    "print(model_1.summary())"
   ]
  },
  {
   "cell_type": "code",
   "execution_count": null,
   "metadata": {},
   "outputs": [],
   "source": []
  }
 ],
 "metadata": {
  "kernelspec": {
   "display_name": "Python 3",
   "language": "python",
   "name": "python3"
  },
  "language_info": {
   "codemirror_mode": {
    "name": "ipython",
    "version": 3
   },
   "file_extension": ".py",
   "mimetype": "text/x-python",
   "name": "python",
   "nbconvert_exporter": "python",
   "pygments_lexer": "ipython3",
   "version": "3.7.3"
  }
 },
 "nbformat": 4,
 "nbformat_minor": 2
}
